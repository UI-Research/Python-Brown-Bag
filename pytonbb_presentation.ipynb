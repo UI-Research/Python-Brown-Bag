{
 "cells": [
  {
   "cell_type": "code",
   "execution_count": 1,
   "metadata": {
    "collapsed": true,
    "slideshow": {
     "slide_type": "skip"
    }
   },
   "outputs": [],
   "source": [
    "path = 'd:/users/jlevy/documents/python bb/'"
   ]
  },
  {
   "cell_type": "markdown",
   "metadata": {
    "slideshow": {
     "slide_type": "slide"
    }
   },
   "source": [
    "# Pandas: Data Analysis in Python\n",
    "\n",
    "The Pandas library, based closely on R dataframes, is the foundation of most data work in Python.  We'll begin with importing and merging some data from file."
   ]
  },
  {
   "cell_type": "code",
   "execution_count": 2,
   "metadata": {
    "collapsed": false,
    "slideshow": {
     "slide_type": "subslide"
    }
   },
   "outputs": [],
   "source": [
    "import pandas as pd\n",
    "\n",
    "file_name  = 'WB_military.csv'\n",
    "xwalk_name = 'UN_Regions.csv'\n",
    "\n",
    "df    = pd.read_csv(path+file_name,  encoding='ISO-8859-1', sep='\\t', skipfooter=5, na_values='..')\n",
    "xwalk = pd.read_csv(path+xwalk_name, encoding='ISO-8859-1')"
   ]
  },
  {
   "cell_type": "code",
   "execution_count": 3,
   "metadata": {
    "collapsed": false,
    "slideshow": {
     "slide_type": "subslide"
    }
   },
   "outputs": [
    {
     "data": {
      "text/html": [
       "<div>\n",
       "<table border=\"1\" class=\"dataframe\">\n",
       "  <thead>\n",
       "    <tr style=\"text-align: right;\">\n",
       "      <th></th>\n",
       "      <th>Time</th>\n",
       "      <th>Time Code</th>\n",
       "      <th>Country Name</th>\n",
       "      <th>Country Code</th>\n",
       "      <th>Military expenditure (% of GDP) [MS.MIL.XPND.GD.ZS]</th>\n",
       "      <th>Military expenditure (% of central government expenditure) [MS.MIL.XPND.ZS]</th>\n",
       "      <th>Armed forces personnel, total [MS.MIL.TOTL.P1]</th>\n",
       "      <th>Armed forces personnel (% of total labor force) [MS.MIL.TOTL.TF.ZS]</th>\n",
       "      <th>Arms exports (SIPRI trend indicator values) [MS.MIL.XPRT.KD]</th>\n",
       "      <th>Arms imports (SIPRI trend indicator values) [MS.MIL.MPRT.KD]</th>\n",
       "    </tr>\n",
       "  </thead>\n",
       "  <tbody>\n",
       "    <tr>\n",
       "      <th>0</th>\n",
       "      <td>1990</td>\n",
       "      <td>YR1990</td>\n",
       "      <td>Afghanistan</td>\n",
       "      <td>AFG</td>\n",
       "      <td>NaN</td>\n",
       "      <td>NaN</td>\n",
       "      <td>58000.0</td>\n",
       "      <td>1.880981</td>\n",
       "      <td>NaN</td>\n",
       "      <td>1.900000e+09</td>\n",
       "    </tr>\n",
       "    <tr>\n",
       "      <th>1</th>\n",
       "      <td>1990</td>\n",
       "      <td>YR1990</td>\n",
       "      <td>Albania</td>\n",
       "      <td>ALB</td>\n",
       "      <td>5.888301</td>\n",
       "      <td>NaN</td>\n",
       "      <td>NaN</td>\n",
       "      <td>NaN</td>\n",
       "      <td>NaN</td>\n",
       "      <td>NaN</td>\n",
       "    </tr>\n",
       "    <tr>\n",
       "      <th>2</th>\n",
       "      <td>1990</td>\n",
       "      <td>YR1990</td>\n",
       "      <td>Algeria</td>\n",
       "      <td>DZA</td>\n",
       "      <td>1.457359</td>\n",
       "      <td>NaN</td>\n",
       "      <td>126000.0</td>\n",
       "      <td>2.028753</td>\n",
       "      <td>NaN</td>\n",
       "      <td>7.350000e+08</td>\n",
       "    </tr>\n",
       "    <tr>\n",
       "      <th>3</th>\n",
       "      <td>1990</td>\n",
       "      <td>YR1990</td>\n",
       "      <td>American Samoa</td>\n",
       "      <td>ASM</td>\n",
       "      <td>NaN</td>\n",
       "      <td>NaN</td>\n",
       "      <td>NaN</td>\n",
       "      <td>NaN</td>\n",
       "      <td>NaN</td>\n",
       "      <td>NaN</td>\n",
       "    </tr>\n",
       "    <tr>\n",
       "      <th>4</th>\n",
       "      <td>1990</td>\n",
       "      <td>YR1990</td>\n",
       "      <td>Andorra</td>\n",
       "      <td>ADO</td>\n",
       "      <td>NaN</td>\n",
       "      <td>NaN</td>\n",
       "      <td>NaN</td>\n",
       "      <td>NaN</td>\n",
       "      <td>NaN</td>\n",
       "      <td>NaN</td>\n",
       "    </tr>\n",
       "  </tbody>\n",
       "</table>\n",
       "</div>"
      ],
      "text/plain": [
       "   Time Time Code    Country Name Country Code  \\\n",
       "0  1990    YR1990     Afghanistan          AFG   \n",
       "1  1990    YR1990         Albania          ALB   \n",
       "2  1990    YR1990         Algeria          DZA   \n",
       "3  1990    YR1990  American Samoa          ASM   \n",
       "4  1990    YR1990         Andorra          ADO   \n",
       "\n",
       "   Military expenditure (% of GDP) [MS.MIL.XPND.GD.ZS]  \\\n",
       "0                                                NaN     \n",
       "1                                           5.888301     \n",
       "2                                           1.457359     \n",
       "3                                                NaN     \n",
       "4                                                NaN     \n",
       "\n",
       "   Military expenditure (% of central government expenditure) [MS.MIL.XPND.ZS]  \\\n",
       "0                                                NaN                             \n",
       "1                                                NaN                             \n",
       "2                                                NaN                             \n",
       "3                                                NaN                             \n",
       "4                                                NaN                             \n",
       "\n",
       "   Armed forces personnel, total [MS.MIL.TOTL.P1]  \\\n",
       "0                                         58000.0   \n",
       "1                                             NaN   \n",
       "2                                        126000.0   \n",
       "3                                             NaN   \n",
       "4                                             NaN   \n",
       "\n",
       "   Armed forces personnel (% of total labor force) [MS.MIL.TOTL.TF.ZS]  \\\n",
       "0                                           1.880981                     \n",
       "1                                                NaN                     \n",
       "2                                           2.028753                     \n",
       "3                                                NaN                     \n",
       "4                                                NaN                     \n",
       "\n",
       "   Arms exports (SIPRI trend indicator values) [MS.MIL.XPRT.KD]  \\\n",
       "0                                                NaN              \n",
       "1                                                NaN              \n",
       "2                                                NaN              \n",
       "3                                                NaN              \n",
       "4                                                NaN              \n",
       "\n",
       "   Arms imports (SIPRI trend indicator values) [MS.MIL.MPRT.KD]  \n",
       "0                                       1.900000e+09             \n",
       "1                                                NaN             \n",
       "2                                       7.350000e+08             \n",
       "3                                                NaN             \n",
       "4                                                NaN             "
      ]
     },
     "execution_count": 3,
     "metadata": {},
     "output_type": "execute_result"
    }
   ],
   "source": [
    "df[:5]"
   ]
  },
  {
   "cell_type": "code",
   "execution_count": 4,
   "metadata": {
    "collapsed": false,
    "slideshow": {
     "slide_type": "subslide"
    }
   },
   "outputs": [
    {
     "data": {
      "text/html": [
       "<div>\n",
       "<table border=\"1\" class=\"dataframe\">\n",
       "  <thead>\n",
       "    <tr style=\"text-align: right;\">\n",
       "      <th></th>\n",
       "      <th>Region</th>\n",
       "      <th>Country</th>\n",
       "    </tr>\n",
       "  </thead>\n",
       "  <tbody>\n",
       "    <tr>\n",
       "      <th>0</th>\n",
       "      <td>Eastern Africa</td>\n",
       "      <td>Burundi</td>\n",
       "    </tr>\n",
       "    <tr>\n",
       "      <th>1</th>\n",
       "      <td>Eastern Africa</td>\n",
       "      <td>Comoros</td>\n",
       "    </tr>\n",
       "    <tr>\n",
       "      <th>2</th>\n",
       "      <td>Eastern Africa</td>\n",
       "      <td>Djibouti</td>\n",
       "    </tr>\n",
       "    <tr>\n",
       "      <th>3</th>\n",
       "      <td>Eastern Africa</td>\n",
       "      <td>Eritrea</td>\n",
       "    </tr>\n",
       "    <tr>\n",
       "      <th>4</th>\n",
       "      <td>Eastern Africa</td>\n",
       "      <td>Ethiopia</td>\n",
       "    </tr>\n",
       "  </tbody>\n",
       "</table>\n",
       "</div>"
      ],
      "text/plain": [
       "           Region   Country\n",
       "0  Eastern Africa   Burundi\n",
       "1  Eastern Africa   Comoros\n",
       "2  Eastern Africa  Djibouti\n",
       "3  Eastern Africa   Eritrea\n",
       "4  Eastern Africa  Ethiopia"
      ]
     },
     "execution_count": 4,
     "metadata": {},
     "output_type": "execute_result"
    }
   ],
   "source": [
    "xwalk[:5]"
   ]
  },
  {
   "cell_type": "markdown",
   "metadata": {
    "slideshow": {
     "slide_type": "slide"
    }
   },
   "source": [
    "**Now we use Pandas merging ability to combine the crosswalk and the main dataframe**"
   ]
  },
  {
   "cell_type": "code",
   "execution_count": 5,
   "metadata": {
    "collapsed": false,
    "slideshow": {
     "slide_type": "subslide"
    }
   },
   "outputs": [
    {
     "data": {
      "text/html": [
       "<div>\n",
       "<table border=\"1\" class=\"dataframe\">\n",
       "  <thead>\n",
       "    <tr style=\"text-align: right;\">\n",
       "      <th></th>\n",
       "      <th>Time</th>\n",
       "      <th>Time Code</th>\n",
       "      <th>Country Name</th>\n",
       "      <th>Country Code</th>\n",
       "      <th>Military expenditure (% of GDP) [MS.MIL.XPND.GD.ZS]</th>\n",
       "      <th>Military expenditure (% of central government expenditure) [MS.MIL.XPND.ZS]</th>\n",
       "      <th>Armed forces personnel, total [MS.MIL.TOTL.P1]</th>\n",
       "      <th>Armed forces personnel (% of total labor force) [MS.MIL.TOTL.TF.ZS]</th>\n",
       "      <th>Arms exports (SIPRI trend indicator values) [MS.MIL.XPRT.KD]</th>\n",
       "      <th>Arms imports (SIPRI trend indicator values) [MS.MIL.MPRT.KD]</th>\n",
       "      <th>Region</th>\n",
       "      <th>Country</th>\n",
       "      <th>_merge</th>\n",
       "    </tr>\n",
       "  </thead>\n",
       "  <tbody>\n",
       "    <tr>\n",
       "      <th>0</th>\n",
       "      <td>1990.0</td>\n",
       "      <td>YR1990</td>\n",
       "      <td>Afghanistan</td>\n",
       "      <td>AFG</td>\n",
       "      <td>NaN</td>\n",
       "      <td>NaN</td>\n",
       "      <td>58000.0</td>\n",
       "      <td>1.880981</td>\n",
       "      <td>NaN</td>\n",
       "      <td>1.900000e+09</td>\n",
       "      <td>Southern Asia</td>\n",
       "      <td>Afghanistan</td>\n",
       "      <td>both</td>\n",
       "    </tr>\n",
       "    <tr>\n",
       "      <th>1</th>\n",
       "      <td>2000.0</td>\n",
       "      <td>YR2000</td>\n",
       "      <td>Afghanistan</td>\n",
       "      <td>AFG</td>\n",
       "      <td>NaN</td>\n",
       "      <td>NaN</td>\n",
       "      <td>400000.0</td>\n",
       "      <td>8.292278</td>\n",
       "      <td>NaN</td>\n",
       "      <td>NaN</td>\n",
       "      <td>Southern Asia</td>\n",
       "      <td>Afghanistan</td>\n",
       "      <td>both</td>\n",
       "    </tr>\n",
       "    <tr>\n",
       "      <th>2</th>\n",
       "      <td>2007.0</td>\n",
       "      <td>YR2007</td>\n",
       "      <td>Afghanistan</td>\n",
       "      <td>AFG</td>\n",
       "      <td>2.237069</td>\n",
       "      <td>9.322346</td>\n",
       "      <td>51000.0</td>\n",
       "      <td>0.788009</td>\n",
       "      <td>NaN</td>\n",
       "      <td>4.100000e+07</td>\n",
       "      <td>Southern Asia</td>\n",
       "      <td>Afghanistan</td>\n",
       "      <td>both</td>\n",
       "    </tr>\n",
       "    <tr>\n",
       "      <th>3</th>\n",
       "      <td>2008.0</td>\n",
       "      <td>YR2008</td>\n",
       "      <td>Afghanistan</td>\n",
       "      <td>AFG</td>\n",
       "      <td>2.328003</td>\n",
       "      <td>4.626862</td>\n",
       "      <td>94000.0</td>\n",
       "      <td>1.414847</td>\n",
       "      <td>NaN</td>\n",
       "      <td>1.500000e+08</td>\n",
       "      <td>Southern Asia</td>\n",
       "      <td>Afghanistan</td>\n",
       "      <td>both</td>\n",
       "    </tr>\n",
       "    <tr>\n",
       "      <th>4</th>\n",
       "      <td>2009.0</td>\n",
       "      <td>YR2009</td>\n",
       "      <td>Afghanistan</td>\n",
       "      <td>AFG</td>\n",
       "      <td>2.060751</td>\n",
       "      <td>4.675714</td>\n",
       "      <td>255745.0</td>\n",
       "      <td>3.749151</td>\n",
       "      <td>NaN</td>\n",
       "      <td>3.440000e+08</td>\n",
       "      <td>Southern Asia</td>\n",
       "      <td>Afghanistan</td>\n",
       "      <td>both</td>\n",
       "    </tr>\n",
       "  </tbody>\n",
       "</table>\n",
       "</div>"
      ],
      "text/plain": [
       "     Time Time Code Country Name Country Code  \\\n",
       "0  1990.0    YR1990  Afghanistan          AFG   \n",
       "1  2000.0    YR2000  Afghanistan          AFG   \n",
       "2  2007.0    YR2007  Afghanistan          AFG   \n",
       "3  2008.0    YR2008  Afghanistan          AFG   \n",
       "4  2009.0    YR2009  Afghanistan          AFG   \n",
       "\n",
       "   Military expenditure (% of GDP) [MS.MIL.XPND.GD.ZS]  \\\n",
       "0                                                NaN     \n",
       "1                                                NaN     \n",
       "2                                           2.237069     \n",
       "3                                           2.328003     \n",
       "4                                           2.060751     \n",
       "\n",
       "   Military expenditure (% of central government expenditure) [MS.MIL.XPND.ZS]  \\\n",
       "0                                                NaN                             \n",
       "1                                                NaN                             \n",
       "2                                           9.322346                             \n",
       "3                                           4.626862                             \n",
       "4                                           4.675714                             \n",
       "\n",
       "   Armed forces personnel, total [MS.MIL.TOTL.P1]  \\\n",
       "0                                         58000.0   \n",
       "1                                        400000.0   \n",
       "2                                         51000.0   \n",
       "3                                         94000.0   \n",
       "4                                        255745.0   \n",
       "\n",
       "   Armed forces personnel (% of total labor force) [MS.MIL.TOTL.TF.ZS]  \\\n",
       "0                                           1.880981                     \n",
       "1                                           8.292278                     \n",
       "2                                           0.788009                     \n",
       "3                                           1.414847                     \n",
       "4                                           3.749151                     \n",
       "\n",
       "   Arms exports (SIPRI trend indicator values) [MS.MIL.XPRT.KD]  \\\n",
       "0                                                NaN              \n",
       "1                                                NaN              \n",
       "2                                                NaN              \n",
       "3                                                NaN              \n",
       "4                                                NaN              \n",
       "\n",
       "   Arms imports (SIPRI trend indicator values) [MS.MIL.MPRT.KD]  \\\n",
       "0                                       1.900000e+09              \n",
       "1                                                NaN              \n",
       "2                                       4.100000e+07              \n",
       "3                                       1.500000e+08              \n",
       "4                                       3.440000e+08              \n",
       "\n",
       "          Region      Country _merge  \n",
       "0  Southern Asia  Afghanistan   both  \n",
       "1  Southern Asia  Afghanistan   both  \n",
       "2  Southern Asia  Afghanistan   both  \n",
       "3  Southern Asia  Afghanistan   both  \n",
       "4  Southern Asia  Afghanistan   both  "
      ]
     },
     "execution_count": 5,
     "metadata": {},
     "output_type": "execute_result"
    }
   ],
   "source": [
    "df = df.merge(xwalk, left_on='Country Name', right_on='Country', how='outer', indicator=True)\n",
    "df[:5]"
   ]
  },
  {
   "cell_type": "markdown",
   "metadata": {
    "slideshow": {
     "slide_type": "slide"
    }
   },
   "source": [
    "**We can select subsets of a Pandas dataframe easily, in the format:**\n",
    "\n",
    "    dataframe[where some condition is true]\n",
    "\n",
    "If the condition is testing for a specific value in a column, the condition may take the format:\n",
    " \n",
    "    dataframe[column] == 'condition'\n",
    "    \n",
    "When combined, we get:\n",
    "\n",
    "    dataframe[dataframe[column] == 'condition']\n",
    "    \n",
    "On our current dataset, then:"
   ]
  },
  {
   "cell_type": "code",
   "execution_count": 6,
   "metadata": {
    "collapsed": false,
    "slideshow": {
     "slide_type": "subslide"
    }
   },
   "outputs": [
    {
     "name": "stdout",
     "output_type": "stream",
     "text": [
      "348\n",
      "53\n",
      "2256\n"
     ]
    }
   ],
   "source": [
    "left_only  = df[df['_merge'] == 'left_only']\n",
    "right_only = df[df['_merge'] == 'right_only']\n",
    "df         = df[df['_merge'] == 'both']\n",
    "\n",
    "print(len(left_only))\n",
    "print(len(right_only))\n",
    "print(len(df))"
   ]
  },
  {
   "cell_type": "code",
   "execution_count": 7,
   "metadata": {
    "collapsed": false,
    "slideshow": {
     "slide_type": "slide"
    }
   },
   "outputs": [
    {
     "data": {
      "text/plain": [
       "array(['Bahamas, The', 'Bolivia', 'Congo, Dem. Rep.', 'Congo, Rep.',\n",
       "       'Curacao', 'Egypt, Arab Rep.', 'Faroe Islands', 'Gambia, The',\n",
       "       'Hong Kong SAR, China', 'Iran, Islamic Rep.',\n",
       "       'Korea, Dem. People\\x92s Rep.', 'Korea, Rep.', 'Kosovo',\n",
       "       'Kyrgyz Republic', 'Lao PDR', 'Macao SAR, China', 'Macedonia, FYR',\n",
       "       'Micronesia, Fed. Sts.', 'Moldova', 'Slovak Republic',\n",
       "       'St. Kitts and Nevis', 'St. Lucia',\n",
       "       'St. Vincent and the Grenadines', 'Tanzania', 'Venezuela, RB',\n",
       "       'Vietnam', 'Virgin Islands (U.S.)', 'West Bank and Gaza',\n",
       "       'Yemen, Rep.'], dtype=object)"
      ]
     },
     "execution_count": 7,
     "metadata": {},
     "output_type": "execute_result"
    }
   ],
   "source": [
    "left_only['Country Name'].unique()"
   ]
  },
  {
   "cell_type": "code",
   "execution_count": 8,
   "metadata": {
    "collapsed": false,
    "slideshow": {
     "slide_type": "subslide"
    }
   },
   "outputs": [
    {
     "data": {
      "text/html": [
       "<div>\n",
       "<table border=\"1\" class=\"dataframe\">\n",
       "  <thead>\n",
       "    <tr style=\"text-align: right;\">\n",
       "      <th></th>\n",
       "      <th>Region</th>\n",
       "      <th>Country</th>\n",
       "    </tr>\n",
       "  </thead>\n",
       "  <tbody>\n",
       "    <tr>\n",
       "      <th>129</th>\n",
       "      <td>Southern Asia</td>\n",
       "      <td>Iran (Islamic Republic of)</td>\n",
       "    </tr>\n",
       "  </tbody>\n",
       "</table>\n",
       "</div>"
      ],
      "text/plain": [
       "            Region                     Country\n",
       "129  Southern Asia  Iran (Islamic Republic of)"
      ]
     },
     "execution_count": 8,
     "metadata": {},
     "output_type": "execute_result"
    }
   ],
   "source": [
    "# Find any country name in the crosswalk that contains the characters \"Iran\"\n",
    "xwalk[\n",
    "      xwalk['Country'].str.contains('Iran')\n",
    "      ]"
   ]
  },
  {
   "cell_type": "markdown",
   "metadata": {
    "slideshow": {
     "slide_type": "slide"
    }
   },
   "source": [
    "**Now we will _group_ our dataframe by regions and look at military spending that way**"
   ]
  },
  {
   "cell_type": "code",
   "execution_count": 9,
   "metadata": {
    "collapsed": false,
    "slideshow": {
     "slide_type": "subslide"
    }
   },
   "outputs": [
    {
     "data": {
      "text/plain": [
       "Index(['Time', 'Time Code', 'Country Name', 'Country Code',\n",
       "       'Military expenditure (% of GDP) [MS.MIL.XPND.GD.ZS]',\n",
       "       'Military expenditure (% of central government expenditure) [MS.MIL.XPND.ZS]',\n",
       "       'Armed forces personnel, total [MS.MIL.TOTL.P1]',\n",
       "       'Armed forces personnel (% of total labor force) [MS.MIL.TOTL.TF.ZS]',\n",
       "       'Arms exports (SIPRI trend indicator values) [MS.MIL.XPRT.KD]',\n",
       "       'Arms imports (SIPRI trend indicator values) [MS.MIL.MPRT.KD]',\n",
       "       'Region', 'Country', '_merge'],\n",
       "      dtype='object')"
      ]
     },
     "execution_count": 9,
     "metadata": {},
     "output_type": "execute_result"
    }
   ],
   "source": [
    "df.columns"
   ]
  },
  {
   "cell_type": "code",
   "execution_count": 10,
   "metadata": {
    "collapsed": false,
    "slideshow": {
     "slide_type": "subslide"
    }
   },
   "outputs": [
    {
     "name": "stdout",
     "output_type": "stream",
     "text": [
      "Armed forces personnel, total [MS.MIL.TOTL.P1]\n",
      "Military expenditure (% of GDP) [MS.MIL.XPND.GD.ZS]\n"
     ]
    }
   ],
   "source": [
    "total_mil = df.columns.values[6]\n",
    "perc_gdp = df.columns.values[4]\n",
    "\n",
    "print(total_mil)\n",
    "print(perc_gdp)"
   ]
  },
  {
   "cell_type": "code",
   "execution_count": 11,
   "metadata": {
    "collapsed": false,
    "slideshow": {
     "slide_type": "subslide"
    }
   },
   "outputs": [
    {
     "data": {
      "text/html": [
       "<div>\n",
       "<table border=\"1\" class=\"dataframe\">\n",
       "  <thead>\n",
       "    <tr style=\"text-align: right;\">\n",
       "      <th></th>\n",
       "      <th>Armed forces personnel, total [MS.MIL.TOTL.P1]</th>\n",
       "      <th>Military expenditure (% of GDP) [MS.MIL.XPND.GD.ZS]</th>\n",
       "    </tr>\n",
       "    <tr>\n",
       "      <th>Region</th>\n",
       "      <th></th>\n",
       "      <th></th>\n",
       "    </tr>\n",
       "  </thead>\n",
       "  <tbody>\n",
       "    <tr>\n",
       "      <th>Australia and New Zealand</th>\n",
       "      <td>661100.0</td>\n",
       "      <td>1.616890</td>\n",
       "    </tr>\n",
       "    <tr>\n",
       "      <th>Caribbean</th>\n",
       "      <td>1555916.0</td>\n",
       "      <td>1.085204</td>\n",
       "    </tr>\n",
       "    <tr>\n",
       "      <th>Central America</th>\n",
       "      <td>4280174.0</td>\n",
       "      <td>0.662078</td>\n",
       "    </tr>\n",
       "    <tr>\n",
       "      <th>Central Asia</th>\n",
       "      <td>1746600.0</td>\n",
       "      <td>1.047478</td>\n",
       "    </tr>\n",
       "    <tr>\n",
       "      <th>Eastern Africa</th>\n",
       "      <td>7474180.0</td>\n",
       "      <td>2.199662</td>\n",
       "    </tr>\n",
       "  </tbody>\n",
       "</table>\n",
       "</div>"
      ],
      "text/plain": [
       "                           Armed forces personnel, total [MS.MIL.TOTL.P1]  \\\n",
       "Region                                                                      \n",
       "Australia and New Zealand                                        661100.0   \n",
       "Caribbean                                                       1555916.0   \n",
       "Central America                                                 4280174.0   \n",
       "Central Asia                                                    1746600.0   \n",
       "Eastern Africa                                                  7474180.0   \n",
       "\n",
       "                           Military expenditure (% of GDP) [MS.MIL.XPND.GD.ZS]  \n",
       "Region                                                                          \n",
       "Australia and New Zealand                                           1.616890    \n",
       "Caribbean                                                           1.085204    \n",
       "Central America                                                     0.662078    \n",
       "Central Asia                                                        1.047478    \n",
       "Eastern Africa                                                      2.199662    "
      ]
     },
     "execution_count": 11,
     "metadata": {},
     "output_type": "execute_result"
    }
   ],
   "source": [
    "by_region = df.groupby('Region').agg({total_mil:'sum', perc_gdp:'mean'})\n",
    "by_region[:5]"
   ]
  },
  {
   "cell_type": "code",
   "execution_count": 12,
   "metadata": {
    "collapsed": false,
    "slideshow": {
     "slide_type": "subslide"
    }
   },
   "outputs": [
    {
     "data": {
      "text/html": [
       "<div>\n",
       "<table border=\"1\" class=\"dataframe\">\n",
       "  <thead>\n",
       "    <tr style=\"text-align: right;\">\n",
       "      <th></th>\n",
       "      <th>Armed forces personnel, total [MS.MIL.TOTL.P1]</th>\n",
       "      <th>Military expenditure (% of GDP) [MS.MIL.XPND.GD.ZS]</th>\n",
       "    </tr>\n",
       "    <tr>\n",
       "      <th>Region</th>\n",
       "      <th></th>\n",
       "      <th></th>\n",
       "    </tr>\n",
       "  </thead>\n",
       "  <tbody>\n",
       "    <tr>\n",
       "      <th>Australia and New Zealand</th>\n",
       "      <td>661100.0</td>\n",
       "      <td>0.016169</td>\n",
       "    </tr>\n",
       "    <tr>\n",
       "      <th>Caribbean</th>\n",
       "      <td>1555916.0</td>\n",
       "      <td>0.010852</td>\n",
       "    </tr>\n",
       "    <tr>\n",
       "      <th>Central America</th>\n",
       "      <td>4280174.0</td>\n",
       "      <td>0.006621</td>\n",
       "    </tr>\n",
       "    <tr>\n",
       "      <th>Central Asia</th>\n",
       "      <td>1746600.0</td>\n",
       "      <td>0.010475</td>\n",
       "    </tr>\n",
       "    <tr>\n",
       "      <th>Eastern Africa</th>\n",
       "      <td>7474180.0</td>\n",
       "      <td>0.021997</td>\n",
       "    </tr>\n",
       "  </tbody>\n",
       "</table>\n",
       "</div>"
      ],
      "text/plain": [
       "                           Armed forces personnel, total [MS.MIL.TOTL.P1]  \\\n",
       "Region                                                                      \n",
       "Australia and New Zealand                                        661100.0   \n",
       "Caribbean                                                       1555916.0   \n",
       "Central America                                                 4280174.0   \n",
       "Central Asia                                                    1746600.0   \n",
       "Eastern Africa                                                  7474180.0   \n",
       "\n",
       "                           Military expenditure (% of GDP) [MS.MIL.XPND.GD.ZS]  \n",
       "Region                                                                          \n",
       "Australia and New Zealand                                           0.016169    \n",
       "Caribbean                                                           0.010852    \n",
       "Central America                                                     0.006621    \n",
       "Central Asia                                                        0.010475    \n",
       "Eastern Africa                                                      0.021997    "
      ]
     },
     "execution_count": 12,
     "metadata": {},
     "output_type": "execute_result"
    }
   ],
   "source": [
    "by_region[perc_gdp] = by_region[perc_gdp] * .01\n",
    "by_region[:5]"
   ]
  },
  {
   "cell_type": "markdown",
   "metadata": {
    "slideshow": {
     "slide_type": "slide"
    }
   },
   "source": [
    "# Dates in Python\n",
    "\n",
    "**Datetime object:**\n",
    "\n",
    "Now we create two _date objects_, January 1st 2010 and December 31st 2015."
   ]
  },
  {
   "cell_type": "code",
   "execution_count": 15,
   "metadata": {
    "collapsed": false,
    "slideshow": {
     "slide_type": "subslide"
    }
   },
   "outputs": [
    {
     "name": "stdout",
     "output_type": "stream",
     "text": [
      "2015-12-31 00:00:00\n",
      "day: 31\n",
      "month: 12\n",
      "year 2015\n"
     ]
    }
   ],
   "source": [
    "import datetime\n",
    "\n",
    "start = datetime.datetime(2010, 1, 1)\n",
    "end   = datetime.datetime(2015, 12, 31)\n",
    "\n",
    "print(end)\n",
    "print('day:', end.day)\n",
    "print('month:', end.month)\n",
    "print('year', end.year)"
   ]
  },
  {
   "cell_type": "markdown",
   "metadata": {
    "slideshow": {
     "slide_type": "subslide"
    }
   },
   "source": [
    "**Timedelta object:**\n",
    "\n",
    "One of the most important properties of datetime objects is the ability to accurately perform math operations on them."
   ]
  },
  {
   "cell_type": "code",
   "execution_count": 17,
   "metadata": {
    "collapsed": false,
    "slideshow": {
     "slide_type": "subslide"
    }
   },
   "outputs": [
    {
     "name": "stdout",
     "output_type": "stream",
     "text": [
      "elapsed days: 2190\n"
     ]
    }
   ],
   "source": [
    "elapsed = end - start\n",
    "print('elapsed days:', elapsed.days)"
   ]
  },
  {
   "cell_type": "markdown",
   "metadata": {
    "slideshow": {
     "slide_type": "slide"
    }
   },
   "source": [
    "# Retrieve a Time Series from FRED\n",
    "\n",
    "We will use the Pandas module to easily interface with the Federal Reserve Board of St. Louis database of economic statisics (FRED) and download several different series.\n",
    "\n",
    "**Also works for: World Bank, OECD, Google Analytics, Google Finance, Yahoo! Finance, Fama/French, and others**\n",
    "\n",
    "We will download three series from the FRED database: GDP (quarterly), GNP (quarterly) and the CPI less food and energy (monthly)."
   ]
  },
  {
   "cell_type": "code",
   "execution_count": 18,
   "metadata": {
    "collapsed": false,
    "slideshow": {
     "slide_type": "subslide"
    }
   },
   "outputs": [
    {
     "data": {
      "text/html": [
       "<div>\n",
       "<table border=\"1\" class=\"dataframe\">\n",
       "  <thead>\n",
       "    <tr style=\"text-align: right;\">\n",
       "      <th></th>\n",
       "      <th>GDP</th>\n",
       "      <th>GNP</th>\n",
       "      <th>CPILFESL</th>\n",
       "    </tr>\n",
       "    <tr>\n",
       "      <th>DATE</th>\n",
       "      <th></th>\n",
       "      <th></th>\n",
       "      <th></th>\n",
       "    </tr>\n",
       "  </thead>\n",
       "  <tbody>\n",
       "    <tr>\n",
       "      <th>2010-01-01</th>\n",
       "      <td>14681.1</td>\n",
       "      <td>14884.7</td>\n",
       "      <td>220.633</td>\n",
       "    </tr>\n",
       "    <tr>\n",
       "      <th>2010-02-01</th>\n",
       "      <td>NaN</td>\n",
       "      <td>NaN</td>\n",
       "      <td>220.731</td>\n",
       "    </tr>\n",
       "    <tr>\n",
       "      <th>2010-03-01</th>\n",
       "      <td>NaN</td>\n",
       "      <td>NaN</td>\n",
       "      <td>220.783</td>\n",
       "    </tr>\n",
       "    <tr>\n",
       "      <th>2010-04-01</th>\n",
       "      <td>14888.6</td>\n",
       "      <td>15093.9</td>\n",
       "      <td>220.822</td>\n",
       "    </tr>\n",
       "    <tr>\n",
       "      <th>2010-05-01</th>\n",
       "      <td>NaN</td>\n",
       "      <td>NaN</td>\n",
       "      <td>220.962</td>\n",
       "    </tr>\n",
       "    <tr>\n",
       "      <th>2010-06-01</th>\n",
       "      <td>NaN</td>\n",
       "      <td>NaN</td>\n",
       "      <td>221.194</td>\n",
       "    </tr>\n",
       "    <tr>\n",
       "      <th>2010-07-01</th>\n",
       "      <td>15057.7</td>\n",
       "      <td>15257.4</td>\n",
       "      <td>221.363</td>\n",
       "    </tr>\n",
       "    <tr>\n",
       "      <th>2010-08-01</th>\n",
       "      <td>NaN</td>\n",
       "      <td>NaN</td>\n",
       "      <td>221.509</td>\n",
       "    </tr>\n",
       "    <tr>\n",
       "      <th>2010-09-01</th>\n",
       "      <td>NaN</td>\n",
       "      <td>NaN</td>\n",
       "      <td>221.711</td>\n",
       "    </tr>\n",
       "    <tr>\n",
       "      <th>2010-10-01</th>\n",
       "      <td>15230.2</td>\n",
       "      <td>15445.4</td>\n",
       "      <td>221.830</td>\n",
       "    </tr>\n",
       "  </tbody>\n",
       "</table>\n",
       "</div>"
      ],
      "text/plain": [
       "                GDP      GNP  CPILFESL\n",
       "DATE                                  \n",
       "2010-01-01  14681.1  14884.7   220.633\n",
       "2010-02-01      NaN      NaN   220.731\n",
       "2010-03-01      NaN      NaN   220.783\n",
       "2010-04-01  14888.6  15093.9   220.822\n",
       "2010-05-01      NaN      NaN   220.962\n",
       "2010-06-01      NaN      NaN   221.194\n",
       "2010-07-01  15057.7  15257.4   221.363\n",
       "2010-08-01      NaN      NaN   221.509\n",
       "2010-09-01      NaN      NaN   221.711\n",
       "2010-10-01  15230.2  15445.4   221.830"
      ]
     },
     "execution_count": 18,
     "metadata": {},
     "output_type": "execute_result"
    }
   ],
   "source": [
    "import numpy as np\n",
    "from pandas_datareader import data\n",
    "\n",
    "macro = data.DataReader(['GDP', 'GNP', 'CPILFESL'], \"fred\", start, end)\n",
    "macro[:10]"
   ]
  },
  {
   "cell_type": "code",
   "execution_count": 19,
   "metadata": {
    "collapsed": false,
    "slideshow": {
     "slide_type": "subslide"
    }
   },
   "outputs": [
    {
     "data": {
      "text/html": [
       "<div>\n",
       "<table border=\"1\" class=\"dataframe\">\n",
       "  <thead>\n",
       "    <tr style=\"text-align: right;\">\n",
       "      <th></th>\n",
       "      <th>GDP</th>\n",
       "      <th>GNP</th>\n",
       "      <th>CPILFESL</th>\n",
       "    </tr>\n",
       "    <tr>\n",
       "      <th>DATE</th>\n",
       "      <th></th>\n",
       "      <th></th>\n",
       "      <th></th>\n",
       "    </tr>\n",
       "  </thead>\n",
       "  <tbody>\n",
       "    <tr>\n",
       "      <th>2010-01-01</th>\n",
       "      <td>14681.1</td>\n",
       "      <td>14884.7</td>\n",
       "      <td>220.715667</td>\n",
       "    </tr>\n",
       "    <tr>\n",
       "      <th>2010-04-01</th>\n",
       "      <td>14888.6</td>\n",
       "      <td>15093.9</td>\n",
       "      <td>220.992667</td>\n",
       "    </tr>\n",
       "    <tr>\n",
       "      <th>2010-07-01</th>\n",
       "      <td>15057.7</td>\n",
       "      <td>15257.4</td>\n",
       "      <td>221.527667</td>\n",
       "    </tr>\n",
       "    <tr>\n",
       "      <th>2010-10-01</th>\n",
       "      <td>15230.2</td>\n",
       "      <td>15445.4</td>\n",
       "      <td>222.107333</td>\n",
       "    </tr>\n",
       "    <tr>\n",
       "      <th>2011-01-01</th>\n",
       "      <td>15238.4</td>\n",
       "      <td>15466.5</td>\n",
       "      <td>223.156667</td>\n",
       "    </tr>\n",
       "    <tr>\n",
       "      <th>2011-04-01</th>\n",
       "      <td>15460.9</td>\n",
       "      <td>15692.0</td>\n",
       "      <td>224.199667</td>\n",
       "    </tr>\n",
       "    <tr>\n",
       "      <th>2011-07-01</th>\n",
       "      <td>15587.1</td>\n",
       "      <td>15842.6</td>\n",
       "      <td>225.732667</td>\n",
       "    </tr>\n",
       "    <tr>\n",
       "      <th>2011-10-01</th>\n",
       "      <td>15785.3</td>\n",
       "      <td>16057.1</td>\n",
       "      <td>226.936667</td>\n",
       "    </tr>\n",
       "    <tr>\n",
       "      <th>2012-01-01</th>\n",
       "      <td>15973.9</td>\n",
       "      <td>16225.1</td>\n",
       "      <td>228.140667</td>\n",
       "    </tr>\n",
       "    <tr>\n",
       "      <th>2012-04-01</th>\n",
       "      <td>16121.9</td>\n",
       "      <td>16353.3</td>\n",
       "      <td>229.280667</td>\n",
       "    </tr>\n",
       "  </tbody>\n",
       "</table>\n",
       "</div>"
      ],
      "text/plain": [
       "                GDP      GNP    CPILFESL\n",
       "DATE                                    \n",
       "2010-01-01  14681.1  14884.7  220.715667\n",
       "2010-04-01  14888.6  15093.9  220.992667\n",
       "2010-07-01  15057.7  15257.4  221.527667\n",
       "2010-10-01  15230.2  15445.4  222.107333\n",
       "2011-01-01  15238.4  15466.5  223.156667\n",
       "2011-04-01  15460.9  15692.0  224.199667\n",
       "2011-07-01  15587.1  15842.6  225.732667\n",
       "2011-10-01  15785.3  16057.1  226.936667\n",
       "2012-01-01  15973.9  16225.1  228.140667\n",
       "2012-04-01  16121.9  16353.3  229.280667"
      ]
     },
     "execution_count": 19,
     "metadata": {},
     "output_type": "execute_result"
    }
   ],
   "source": [
    "quarterly = macro.resample('QS').mean()\n",
    "quarterly[:10]"
   ]
  },
  {
   "cell_type": "code",
   "execution_count": 20,
   "metadata": {
    "collapsed": false
   },
   "outputs": [
    {
     "data": {
      "text/html": [
       "<div>\n",
       "<table border=\"1\" class=\"dataframe\">\n",
       "  <thead>\n",
       "    <tr style=\"text-align: right;\">\n",
       "      <th></th>\n",
       "      <th>GDP</th>\n",
       "      <th>GNP</th>\n",
       "      <th>CPILFESL</th>\n",
       "      <th>GDP_ld</th>\n",
       "      <th>GNP_ld</th>\n",
       "      <th>CPILFESL_ld</th>\n",
       "    </tr>\n",
       "    <tr>\n",
       "      <th>DATE</th>\n",
       "      <th></th>\n",
       "      <th></th>\n",
       "      <th></th>\n",
       "      <th></th>\n",
       "      <th></th>\n",
       "      <th></th>\n",
       "    </tr>\n",
       "  </thead>\n",
       "  <tbody>\n",
       "    <tr>\n",
       "      <th>2010-01-01</th>\n",
       "      <td>14681.1</td>\n",
       "      <td>14884.7</td>\n",
       "      <td>220.715667</td>\n",
       "      <td>NaN</td>\n",
       "      <td>NaN</td>\n",
       "      <td>NaN</td>\n",
       "    </tr>\n",
       "    <tr>\n",
       "      <th>2010-04-01</th>\n",
       "      <td>14888.6</td>\n",
       "      <td>15093.9</td>\n",
       "      <td>220.992667</td>\n",
       "      <td>0.014035</td>\n",
       "      <td>0.013957</td>\n",
       "      <td>0.001254</td>\n",
       "    </tr>\n",
       "    <tr>\n",
       "      <th>2010-07-01</th>\n",
       "      <td>15057.7</td>\n",
       "      <td>15257.4</td>\n",
       "      <td>221.527667</td>\n",
       "      <td>0.011294</td>\n",
       "      <td>0.010774</td>\n",
       "      <td>0.002418</td>\n",
       "    </tr>\n",
       "    <tr>\n",
       "      <th>2010-10-01</th>\n",
       "      <td>15230.2</td>\n",
       "      <td>15445.4</td>\n",
       "      <td>222.107333</td>\n",
       "      <td>0.011391</td>\n",
       "      <td>0.012247</td>\n",
       "      <td>0.002613</td>\n",
       "    </tr>\n",
       "    <tr>\n",
       "      <th>2011-01-01</th>\n",
       "      <td>15238.4</td>\n",
       "      <td>15466.5</td>\n",
       "      <td>223.156667</td>\n",
       "      <td>0.000538</td>\n",
       "      <td>0.001365</td>\n",
       "      <td>0.004713</td>\n",
       "    </tr>\n",
       "    <tr>\n",
       "      <th>2011-04-01</th>\n",
       "      <td>15460.9</td>\n",
       "      <td>15692.0</td>\n",
       "      <td>224.199667</td>\n",
       "      <td>0.014496</td>\n",
       "      <td>0.014475</td>\n",
       "      <td>0.004663</td>\n",
       "    </tr>\n",
       "    <tr>\n",
       "      <th>2011-07-01</th>\n",
       "      <td>15587.1</td>\n",
       "      <td>15842.6</td>\n",
       "      <td>225.732667</td>\n",
       "      <td>0.008129</td>\n",
       "      <td>0.009551</td>\n",
       "      <td>0.006814</td>\n",
       "    </tr>\n",
       "    <tr>\n",
       "      <th>2011-10-01</th>\n",
       "      <td>15785.3</td>\n",
       "      <td>16057.1</td>\n",
       "      <td>226.936667</td>\n",
       "      <td>0.012635</td>\n",
       "      <td>0.013449</td>\n",
       "      <td>0.005320</td>\n",
       "    </tr>\n",
       "    <tr>\n",
       "      <th>2012-01-01</th>\n",
       "      <td>15973.9</td>\n",
       "      <td>16225.1</td>\n",
       "      <td>228.140667</td>\n",
       "      <td>0.011877</td>\n",
       "      <td>0.010408</td>\n",
       "      <td>0.005291</td>\n",
       "    </tr>\n",
       "    <tr>\n",
       "      <th>2012-04-01</th>\n",
       "      <td>16121.9</td>\n",
       "      <td>16353.3</td>\n",
       "      <td>229.280667</td>\n",
       "      <td>0.009222</td>\n",
       "      <td>0.007870</td>\n",
       "      <td>0.004984</td>\n",
       "    </tr>\n",
       "  </tbody>\n",
       "</table>\n",
       "</div>"
      ],
      "text/plain": [
       "                GDP      GNP    CPILFESL    GDP_ld    GNP_ld  CPILFESL_ld\n",
       "DATE                                                                     \n",
       "2010-01-01  14681.1  14884.7  220.715667       NaN       NaN          NaN\n",
       "2010-04-01  14888.6  15093.9  220.992667  0.014035  0.013957     0.001254\n",
       "2010-07-01  15057.7  15257.4  221.527667  0.011294  0.010774     0.002418\n",
       "2010-10-01  15230.2  15445.4  222.107333  0.011391  0.012247     0.002613\n",
       "2011-01-01  15238.4  15466.5  223.156667  0.000538  0.001365     0.004713\n",
       "2011-04-01  15460.9  15692.0  224.199667  0.014496  0.014475     0.004663\n",
       "2011-07-01  15587.1  15842.6  225.732667  0.008129  0.009551     0.006814\n",
       "2011-10-01  15785.3  16057.1  226.936667  0.012635  0.013449     0.005320\n",
       "2012-01-01  15973.9  16225.1  228.140667  0.011877  0.010408     0.005291\n",
       "2012-04-01  16121.9  16353.3  229.280667  0.009222  0.007870     0.004984"
      ]
     },
     "execution_count": 20,
     "metadata": {},
     "output_type": "execute_result"
    }
   ],
   "source": [
    "quarterly[['GDP_ld', 'GNP_ld', 'CPILFESL_ld']] = np.log( quarterly ) - np.log( quarterly.shift() )\n",
    "quarterly[:10]"
   ]
  },
  {
   "cell_type": "code",
   "execution_count": 21,
   "metadata": {
    "collapsed": false,
    "slideshow": {
     "slide_type": "subslide"
    }
   },
   "outputs": [
    {
     "data": {
      "text/plain": [
       "<matplotlib.axes._subplots.AxesSubplot at 0x9664320>"
      ]
     },
     "execution_count": 21,
     "metadata": {},
     "output_type": "execute_result"
    },
    {
     "data": {
      "image/png": "[encoded data removed]",
      "text/plain": [
       "<matplotlib.figure.Figure at 0x9656828>"
      ]
     },
     "metadata": {},
     "output_type": "display_data"
    }
   ],
   "source": [
    "%matplotlib inline\n",
    "quarterly[['GDP_ld', 'GNP_ld', 'CPILFESL_ld']].plot()"
   ]
  },
  {
   "cell_type": "markdown",
   "metadata": {
    "slideshow": {
     "slide_type": "slide"
    }
   },
   "source": [
    "# Automate a Download\n",
    "\n",
    "Here we use Python to download a file from the Census Business Dynamics files automatically.  The source page is at: http://www.census.gov/ces/dataproducts/bds/data_estab.html"
   ]
  },
  {
   "cell_type": "code",
   "execution_count": 22,
   "metadata": {
    "collapsed": true,
    "slideshow": {
     "slide_type": "subslide"
    }
   },
   "outputs": [],
   "source": [
    "import requests\n",
    "\n",
    "url = 'http://www2.census.gov/ces/bds/estab/bds_e_st_release.csv'\n",
    "\n",
    "name = 'state.csv'\n",
    "\n",
    "r = requests.get(url)\n",
    "    \n",
    "with open(path+name, 'wb') as ofile:\n",
    "    ofile.write(r.content)"
   ]
  },
  {
   "cell_type": "code",
   "execution_count": 23,
   "metadata": {
    "collapsed": true,
    "slideshow": {
     "slide_type": "subslide"
    }
   },
   "outputs": [],
   "source": [
    "urls = [['state.csv',  'http://www2.census.gov/ces/bds/estab/bds_e_st_release.csv'],\n",
    "        ['age.csv',    'http://www2.census.gov/ces/bds/estab/bds_e_age_release.csv'],\n",
    "        ['sector.csv', 'http://www2.census.gov/ces/bds/estab/bds_e_sic_release.csv']]\n",
    "\n",
    "for name, url in urls:\n",
    "    r = requests.get(url)\n",
    "    with open(path+name, 'wb') as ofile:\n",
    "        ofile.write(r.content)"
   ]
  },
  {
   "cell_type": "markdown",
   "metadata": {
    "slideshow": {
     "slide_type": "slide"
    }
   },
   "source": [
    "# Parse Data out of an HTML Table\n",
    "\n",
    "Not all data we might want to work with is in a convenient format for us to download.  Now we'll use Python to parse an html table on primary school grades from Tanzania, found at http://maktaba.tetea.org/exam-results/FTNA2015/formtwo-2015.html, into a standard csv file."
   ]
  },
  {
   "cell_type": "code",
   "execution_count": 25,
   "metadata": {
    "collapsed": false,
    "slideshow": {
     "slide_type": "subslide"
    }
   },
   "outputs": [
    {
     "data": {
      "text/plain": [
       "'NAME OF CANDIDATEX..........D....GPACLASS0001AGNESS M NHENDEFCDDBCEECFED1.7CREDIT0002AGNESS P KAWIAFAbsentABS0003AJESTA N MBWILOFAB+BB+ACAB+DBB+A4.6DISTINCTION0004ALBERTINA A KITONKAFAB+AB+ABAACB+B+4.7DISTINCTION0005ANGELINA H HAULEFABBBACBAEFC3.9DISTINCTION0006ANITHA M BUBERWAFAAAAABAACAB5.0DISTINCTION0007ANNA J HHAIMAFCEDBB+EFFCEF1.7CREDIT0008ASHA A MTUIFAB+ABB+ACAADCC4.7DISTINCTION0009AZIZA M NJIMWEFEEEDCDFFDFFF0.7PASS0010BEATRICE G SOGOLELAFDCEBB+EECEDCE2.1CREDIT0011BEATRICE P RUGAIMBILAFABB+BACBAEEB+C4.1DISTINCTION0012BETINA B MWASOMOLAFB+B+B+B+BDDB+EDBC3.7DISTINCTION0013BITRES Y CHAULAFB+B+B+B+AB+B+AADB+4.4DISTINCTION0014CATHERINE K OWUYAFAB+B+B+AB+CBADB+4.4DISTINCTION0015DAFIA M NASSOROFEEFFCDFFFEFF0.4PASS0016DEBORA D LEONCEFAAAAAAB+AACA5.0DISTINCTION0017DEBORA H NINDIFB+BB+B+B+BB+AECB+B+4.1DISTINCTION0018DEBORA J MBWANAFBEDCB+DCCEEDD2.1CREDIT0019DOREEN Z MOSSESFABB+B+AB+AABAAB+4.9DISTINCTION0020DORICE A MBAMBALEFB+B+B+B+ABB+ADAAB4.6DISTINCTION0021EDA P KYOMOFBBB+BABBADBD3.7DIST'"
      ]
     },
     "execution_count": 25,
     "metadata": {},
     "output_type": "execute_result"
    }
   ],
   "source": [
    "from bs4 import BeautifulSoup\n",
    "\n",
    "headers = {'user-agent': 'Mozilla/5.0 (Windows NT 6.1; WOW64) AppleWebKit/537.36 (KHTML, like Gecko) Chrome/53.0.2785.116 Safari/537.36'}\n",
    "\n",
    "url = 'http://maktaba.tetea.org/exam-results/FTNA2015/S0206.htm'\n",
    "\n",
    "r = requests.get(url, headers=headers)\n",
    "soup = BeautifulSoup(r.text, 'lxml')\n",
    "\n",
    "soup.text[1000:2000]"
   ]
  },
  {
   "cell_type": "code",
   "execution_count": 26,
   "metadata": {
    "collapsed": true,
    "slideshow": {
     "slide_type": "subslide"
    }
   },
   "outputs": [],
   "source": [
    "table = soup.find('table')\n",
    "\n",
    "rows = []\n",
    "\n",
    "for row in table.find_all('tr'):\n",
    "    rows.append([val.text for val in row.find_all('td')])"
   ]
  },
  {
   "cell_type": "code",
   "execution_count": 29,
   "metadata": {
    "collapsed": false,
    "slideshow": {
     "slide_type": "subslide"
    }
   },
   "outputs": [
    {
     "name": "stdout",
     "output_type": "stream",
     "text": [
      "['0001', '', 'AGNESS M NHENDE', 'F', 'C', 'D', 'D', '', 'B', 'C', '', 'E', 'E', 'C', 'F', 'E', 'D', '', '', '1.7', 'CREDIT']\n",
      "['0002', '', 'AGNESS P KAWIA', 'F', 'Absent', 'ABS']\n",
      "['0003', '', 'AJESTA N MBWILO', 'F', 'A', 'B+', 'B', '', 'B+', 'A', '', 'C', 'A', 'B+', 'D', 'B', '', 'B+', 'A', '4.6', 'DISTINCTION']\n"
     ]
    }
   ],
   "source": [
    "print(rows[24])\n",
    "print(rows[25])\n",
    "print(rows[26])"
   ]
  },
  {
   "cell_type": "code",
   "execution_count": 28,
   "metadata": {
    "collapsed": false,
    "slideshow": {
     "slide_type": "subslide"
    }
   },
   "outputs": [
    {
     "data": {
      "image/png": "[encoded data removed]",
      "text/plain": [
       "<IPython.core.display.Image object>"
      ]
     },
     "execution_count": 28,
     "metadata": {},
     "output_type": "execute_result"
    }
   ],
   "source": [
    "from IPython.display import Image\n",
    "Image(filename='grades.PNG')"
   ]
  },
  {
   "cell_type": "code",
   "execution_count": 30,
   "metadata": {
    "collapsed": true,
    "slideshow": {
     "slide_type": "subslide"
    }
   },
   "outputs": [],
   "source": [
    "name = 'grades.csv'\n",
    "\n",
    "with open(path+name, 'w') as ofile:\n",
    "    \n",
    "    for row in rows[24:152]:\n",
    "        \n",
    "        if row[4] != 'Absent':\n",
    "            line = ','.join(row) + '\\n'\n",
    "        \n",
    "        elif row[4] == 'Absent':\n",
    "            values = row[:4] + ['Absent']*17 + ['\\n']\n",
    "            line = ','.join(values)\n",
    "            \n",
    "        ofile.write(line)"
   ]
  },
  {
   "cell_type": "code",
   "execution_count": 32,
   "metadata": {
    "collapsed": false,
    "slideshow": {
     "slide_type": "subslide"
    }
   },
   "outputs": [
    {
     "data": {
      "text/html": [
       "<div>\n",
       "<table border=\"1\" class=\"dataframe\">\n",
       "  <thead>\n",
       "    <tr style=\"text-align: right;\">\n",
       "      <th></th>\n",
       "      <th>CNO</th>\n",
       "      <th>Repeat</th>\n",
       "      <th>Name</th>\n",
       "      <th>Sex</th>\n",
       "      <th>CIV</th>\n",
       "      <th>HIST</th>\n",
       "      <th>GEO</th>\n",
       "      <th>EDK</th>\n",
       "      <th>KIS</th>\n",
       "      <th>ENG</th>\n",
       "      <th>...</th>\n",
       "      <th>PHY</th>\n",
       "      <th>CHEM</th>\n",
       "      <th>BIO</th>\n",
       "      <th>COMP</th>\n",
       "      <th>MATH</th>\n",
       "      <th>FOOD</th>\n",
       "      <th>COMM</th>\n",
       "      <th>KEEP</th>\n",
       "      <th>GPA</th>\n",
       "      <th>CLASS</th>\n",
       "    </tr>\n",
       "  </thead>\n",
       "  <tbody>\n",
       "    <tr>\n",
       "      <th>0</th>\n",
       "      <td>1</td>\n",
       "      <td>NaN</td>\n",
       "      <td>AGNESS M NHENDE</td>\n",
       "      <td>F</td>\n",
       "      <td>C</td>\n",
       "      <td>D</td>\n",
       "      <td>D</td>\n",
       "      <td>NaN</td>\n",
       "      <td>B</td>\n",
       "      <td>C</td>\n",
       "      <td>...</td>\n",
       "      <td>E</td>\n",
       "      <td>E</td>\n",
       "      <td>C</td>\n",
       "      <td>F</td>\n",
       "      <td>E</td>\n",
       "      <td>D</td>\n",
       "      <td>NaN</td>\n",
       "      <td>NaN</td>\n",
       "      <td>1.7</td>\n",
       "      <td>CREDIT</td>\n",
       "    </tr>\n",
       "    <tr>\n",
       "      <th>1</th>\n",
       "      <td>2</td>\n",
       "      <td>NaN</td>\n",
       "      <td>AGNESS P KAWIA</td>\n",
       "      <td>F</td>\n",
       "      <td>Absent</td>\n",
       "      <td>Absent</td>\n",
       "      <td>Absent</td>\n",
       "      <td>Absent</td>\n",
       "      <td>Absent</td>\n",
       "      <td>Absent</td>\n",
       "      <td>...</td>\n",
       "      <td>Absent</td>\n",
       "      <td>Absent</td>\n",
       "      <td>Absent</td>\n",
       "      <td>Absent</td>\n",
       "      <td>Absent</td>\n",
       "      <td>Absent</td>\n",
       "      <td>Absent</td>\n",
       "      <td>Absent</td>\n",
       "      <td>Absent</td>\n",
       "      <td>Absent</td>\n",
       "    </tr>\n",
       "    <tr>\n",
       "      <th>2</th>\n",
       "      <td>3</td>\n",
       "      <td>NaN</td>\n",
       "      <td>AJESTA N MBWILO</td>\n",
       "      <td>F</td>\n",
       "      <td>A</td>\n",
       "      <td>B+</td>\n",
       "      <td>B</td>\n",
       "      <td>NaN</td>\n",
       "      <td>B+</td>\n",
       "      <td>A</td>\n",
       "      <td>...</td>\n",
       "      <td>C</td>\n",
       "      <td>A</td>\n",
       "      <td>B+</td>\n",
       "      <td>D</td>\n",
       "      <td>B</td>\n",
       "      <td>NaN</td>\n",
       "      <td>B+</td>\n",
       "      <td>A</td>\n",
       "      <td>4.6</td>\n",
       "      <td>DISTINCTION</td>\n",
       "    </tr>\n",
       "    <tr>\n",
       "      <th>3</th>\n",
       "      <td>4</td>\n",
       "      <td>NaN</td>\n",
       "      <td>ALBERTINA A KITONKA</td>\n",
       "      <td>F</td>\n",
       "      <td>A</td>\n",
       "      <td>B+</td>\n",
       "      <td>A</td>\n",
       "      <td>NaN</td>\n",
       "      <td>B+</td>\n",
       "      <td>A</td>\n",
       "      <td>...</td>\n",
       "      <td>B</td>\n",
       "      <td>A</td>\n",
       "      <td>A</td>\n",
       "      <td>C</td>\n",
       "      <td>B+</td>\n",
       "      <td>B+</td>\n",
       "      <td>NaN</td>\n",
       "      <td>NaN</td>\n",
       "      <td>4.7</td>\n",
       "      <td>DISTINCTION</td>\n",
       "    </tr>\n",
       "    <tr>\n",
       "      <th>4</th>\n",
       "      <td>5</td>\n",
       "      <td>NaN</td>\n",
       "      <td>ANGELINA H HAULE</td>\n",
       "      <td>F</td>\n",
       "      <td>A</td>\n",
       "      <td>B</td>\n",
       "      <td>B</td>\n",
       "      <td>NaN</td>\n",
       "      <td>B</td>\n",
       "      <td>A</td>\n",
       "      <td>...</td>\n",
       "      <td>C</td>\n",
       "      <td>B</td>\n",
       "      <td>A</td>\n",
       "      <td>E</td>\n",
       "      <td>F</td>\n",
       "      <td>C</td>\n",
       "      <td>NaN</td>\n",
       "      <td>NaN</td>\n",
       "      <td>3.9</td>\n",
       "      <td>DISTINCTION</td>\n",
       "    </tr>\n",
       "  </tbody>\n",
       "</table>\n",
       "<p>5 rows × 21 columns</p>\n",
       "</div>"
      ],
      "text/plain": [
       "   CNO  Repeat                 Name Sex     CIV    HIST     GEO     EDK  \\\n",
       "0    1     NaN      AGNESS M NHENDE   F       C       D       D     NaN   \n",
       "1    2     NaN       AGNESS P KAWIA   F  Absent  Absent  Absent  Absent   \n",
       "2    3     NaN      AJESTA N MBWILO   F       A      B+       B     NaN   \n",
       "3    4     NaN  ALBERTINA A KITONKA   F       A      B+       A     NaN   \n",
       "4    5     NaN     ANGELINA H HAULE   F       A       B       B     NaN   \n",
       "\n",
       "      KIS     ENG     ...          PHY    CHEM     BIO    COMP    MATH  \\\n",
       "0       B       C     ...            E       E       C       F       E   \n",
       "1  Absent  Absent     ...       Absent  Absent  Absent  Absent  Absent   \n",
       "2      B+       A     ...            C       A      B+       D       B   \n",
       "3      B+       A     ...            B       A       A       C      B+   \n",
       "4       B       A     ...            C       B       A       E       F   \n",
       "\n",
       "     FOOD    COMM    KEEP     GPA        CLASS  \n",
       "0       D     NaN     NaN     1.7       CREDIT  \n",
       "1  Absent  Absent  Absent  Absent       Absent  \n",
       "2     NaN      B+       A     4.6  DISTINCTION  \n",
       "3      B+     NaN     NaN     4.7  DISTINCTION  \n",
       "4       C     NaN     NaN     3.9  DISTINCTION  \n",
       "\n",
       "[5 rows x 21 columns]"
      ]
     },
     "execution_count": 32,
     "metadata": {},
     "output_type": "execute_result"
    }
   ],
   "source": [
    "header = ['CNO','Repeat','Name','Sex','CIV','HIST','GEO','EDK','KIS','ENG','FRN','PHY',\n",
    "          'CHEM','BIO','COMP','MATH','FOOD','COMM','KEEP','GPA','CLASS']\n",
    "\n",
    "df = pd.read_csv(path+name, names=header)\n",
    "\n",
    "df[:5]"
   ]
  },
  {
   "cell_type": "markdown",
   "metadata": {
    "slideshow": {
     "slide_type": "slide"
    }
   },
   "source": [
    "# Extract Information from PDF\n",
    "\n",
    "PDF documents are obviously very common, but are also difficult to work with in any systematic way.  Here we'll show one example of using Python to help.  It is possible to use Python to extract information from scanned PDF documents, but the setup is more technical than we can easily demonstrate here.\n",
    "\n",
    "We will use a research paper in PDF format, Paul Krugman's 1978 \"The Theory of Interstellar Trade\", downloaded from: http://www.standupeconomist.com/pdf/misc/interstellar.pdf"
   ]
  },
  {
   "cell_type": "code",
   "execution_count": 33,
   "metadata": {
    "collapsed": false,
    "slideshow": {
     "slide_type": "subslide"
    }
   },
   "outputs": [
    {
     "name": "stderr",
     "output_type": "stream",
     "text": [
      "2016-10-25 10:16:55,228 [MainThread  ] [INFO ]  Starting new HTTP connection (1): localhost\n"
     ]
    }
   ],
   "source": [
    "from tika import parser\n",
    "\n",
    "name = 'interstellar.pdf'\n",
    "text = parser.from_file(path+name)"
   ]
  },
  {
   "cell_type": "code",
   "execution_count": 34,
   "metadata": {
    "collapsed": false,
    "slideshow": {
     "slide_type": "subslide"
    }
   },
   "outputs": [
    {
     "data": {
      "text/plain": [
       "['',\n",
       " '',\n",
       " '',\n",
       " '',\n",
       " '',\n",
       " '',\n",
       " '',\n",
       " '',\n",
       " '',\n",
       " '',\n",
       " '',\n",
       " '',\n",
       " '',\n",
       " '',\n",
       " '',\n",
       " '',\n",
       " '',\n",
       " '',\n",
       " '',\n",
       " '']"
      ]
     },
     "execution_count": 34,
     "metadata": {},
     "output_type": "execute_result"
    }
   ],
   "source": [
    "lines = text['content'].split('\\n')\n",
    "\n",
    "lines[:20]"
   ]
  },
  {
   "cell_type": "code",
   "execution_count": 35,
   "metadata": {
    "collapsed": false,
    "slideshow": {
     "slide_type": "subslide"
    }
   },
   "outputs": [
    {
     "data": {
      "text/plain": [
       "['interstellar.dvi',\n",
       " 'Paul\\t\\r \\xa0Krugman’s\\t\\r \\xa0“The\\t\\r \\xa0theory\\t\\r \\xa0of\\t\\r \\xa0interstellar\\t\\r \\xa0trade”,\\t\\r \\xa0formally\\t\\r \\xa0published\\t\\r \\xa0in\\t\\r \\xa0Economic\\t\\r \\xa0',\n",
       " 'Inquiry\\t\\r \\xa048:\\t\\r \\xa01119-\\xad‐1123\\t\\r \\xa0(2010).\\t\\r \\xa0\\t\\r \\xa0',\n",
       " '\\t\\r \\xa0',\n",
       " 'This\\t\\r \\xa0document\\t\\r \\xa0is\\t\\r \\xa0a\\t\\r \\xa0pre-\\xad‐print\\t\\r \\xa0that\\t\\r \\xa0should\\t\\r \\xa0(except\\t\\r \\xa0for\\t\\r \\xa0the\\t\\r \\xa0typesetting\\t\\r \\xa0and\\t\\r \\xa0the\\t\\r \\xa0editor’s\\t\\r \\xa0',\n",
       " 'note)\\t\\r \\xa0match\\t\\r \\xa0the\\t\\r \\xa0published\\t\\r \\xa0version.\\t\\r \\xa0\\t\\r \\xa0',\n",
       " '\\t\\r \\xa0',\n",
       " 'Posted\\t\\r \\xa0by\\t\\r \\xa0Yoram\\t\\r \\xa0Bauman,\\t\\r \\xa0Economic\\t\\r \\xa0Inquiry\\t\\r \\xa0co-\\xad‐editor\\t\\r \\xa0for\\t\\r \\xa0Miscellany,\\t\\r \\xa0Jan\\t\\r \\xa026\\t\\r \\xa02011.\\t\\r \\xa0',\n",
       " 'Available\\t\\r \\xa0at\\t\\r \\xa0http://www.standupeconomist.com/pdf/misc/interstellar.pdf.\\t\\r \\xa0\\t\\r \\xa0',\n",
       " 'The Theory of Interstellar Trade',\n",
       " 'Paul Krugman∗',\n",
       " 'June 20, 2008',\n",
       " 'Editor’s note: This article was written in July 1978 but has not been previ-',\n",
       " 'ously published. With the exception of a few minor edits we are publishing it in',\n",
       " 'its original form. A PDF of the original typewritten manuscript can be found at',\n",
       " 'http://krugman.blogs.nytimes.com/2008/03/11/economics-the-final-frontier/.']"
      ]
     },
     "execution_count": 35,
     "metadata": {},
     "output_type": "execute_result"
    }
   ],
   "source": [
    "lines_noblanks = [line for line in lines if line != '']\n",
    "\n",
    "lines_noblanks[:16]"
   ]
  },
  {
   "cell_type": "code",
   "execution_count": 36,
   "metadata": {
    "collapsed": true,
    "slideshow": {
     "slide_type": "subslide"
    }
   },
   "outputs": [],
   "source": [
    "theories = []\n",
    "get_next = False\n",
    "\n",
    "for line in lines_noblanks:\n",
    "    \n",
    "    if 'theory' in line:\n",
    "        current = line + ' '\n",
    "        get_next = True\n",
    "    \n",
    "    elif get_next is True:\n",
    "        current += line\n",
    "        theories.append(current)\n",
    "        get_next = False"
   ]
  },
  {
   "cell_type": "code",
   "execution_count": 38,
   "metadata": {
    "collapsed": false,
    "slideshow": {
     "slide_type": "subslide"
    }
   },
   "outputs": [
    {
     "name": "stdout",
     "output_type": "stream",
     "text": [
      "10\n",
      "observer. A solution is derived from economic theory, and two useless but true theorems are proved.\n"
     ]
    }
   ],
   "source": [
    "print(len(theories))\n",
    "\n",
    "print(theories[2])"
   ]
  },
  {
   "cell_type": "code",
   "execution_count": 39,
   "metadata": {
    "collapsed": true,
    "slideshow": {
     "slide_type": "subslide"
    }
   },
   "outputs": [],
   "source": [
    "bibliogrophy = []\n",
    "\n",
    "is_bib = False\n",
    "\n",
    "for line in lines_noblanks:\n",
    "    \n",
    "    if 'References' in line:\n",
    "        is_bib = True\n",
    "        \n",
    "    if is_bib is True:\n",
    "        bibliogrophy.append(line)"
   ]
  },
  {
   "cell_type": "code",
   "execution_count": 40,
   "metadata": {
    "collapsed": false,
    "slideshow": {
     "slide_type": "subslide"
    }
   },
   "outputs": [
    {
     "data": {
      "text/plain": [
       "['5 References',\n",
       " 'Frankel, J. “Is There Trade With Other Planets?,” processed, International',\n",
       " 'Monetary Fund, 1975.',\n",
       " 'Krugman, P. “Theory Capital and Travel Light-than-Faster,” processed, Yale',\n",
       " 'University, 1987.',\n",
       " 'Lawden, D. Tensor Calculus and Relativity. 1962.',\n",
       " 'Ohlin, G. International and Interregional Trade. 1933.',\n",
       " 'O’Neill, G. The High Frontier. 1976.',\n",
       " 'Samuelson, P. Foundations of Economic Analysis. 1947.']"
      ]
     },
     "execution_count": 40,
     "metadata": {},
     "output_type": "execute_result"
    }
   ],
   "source": [
    "bibliogrophy[:9]"
   ]
  },
  {
   "cell_type": "markdown",
   "metadata": {
    "slideshow": {
     "slide_type": "slide"
    }
   },
   "source": [
    "# A Few Other Research Uses for Python\n",
    "\n",
    "- PDF OCR\n",
    "- natural language processing\n",
    "- fixing very messy data that can't be loaded due to errors\n",
    "- agent-based simulations\n",
    "- organizing a long, modular process\n",
    "- building a data dictionary automatically\n",
    "- machine learning (scikit learn)\n",
    "- statistical analysis (statsmodels)\n",
    "- symbolic math (like Wolfram Mathematica)\n",
    "- programs requiring user input\n",
    "- big data (terabyte, even petabyte-sized data)\n",
    "- creating presentations (hello!)\n",
    "- my dissertation (usefulness may vary)"
   ]
  },
  {
   "cell_type": "code",
   "execution_count": null,
   "metadata": {
    "collapsed": true
   },
   "outputs": [],
   "source": []
  }
 ],
 "metadata": {
  "anaconda-cloud": {},
  "celltoolbar": "Slideshow",
  "kernelspec": {
   "display_name": "Python [Root]",
   "language": "python",
   "name": "Python [Root]"
  },
  "language_info": {
   "codemirror_mode": {
    "name": "ipython",
    "version": 3
   },
   "file_extension": ".py",
   "mimetype": "text/x-python",
   "name": "python",
   "nbconvert_exporter": "python",
   "pygments_lexer": "ipython3",
   "version": "3.5.2"
  }
 },
 "nbformat": 4,
 "nbformat_minor": 0
}
